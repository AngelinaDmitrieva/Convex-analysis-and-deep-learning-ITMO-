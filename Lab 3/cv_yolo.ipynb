{
 "cells": [
  {
   "cell_type": "code",
   "execution_count": 30,
   "id": "d8b96e71",
   "metadata": {},
   "outputs": [],
   "source": [
    "import os\n",
    "import shutil\n",
    "import random\n",
    "import json\n",
    "from tqdm import tqdm"
   ]
  },
  {
   "cell_type": "markdown",
   "id": "3a3d4c1e",
   "metadata": {},
   "source": [
    "## Настройки"
   ]
  },
  {
   "cell_type": "code",
   "execution_count": 31,
   "id": "936cc1e3",
   "metadata": {},
   "outputs": [],
   "source": [
    "dataset_root = \"dataset_yolo\"\n",
    "images_dir = \"data\"\n",
    "annotations_file = \"data/_annotations.coco.json\"\n",
    "train_ratio = 0.8\n",
    "random.seed(42)"
   ]
  },
  {
   "cell_type": "markdown",
   "id": "6aa5eba7",
   "metadata": {},
   "source": [
    "## Папки"
   ]
  },
  {
   "cell_type": "code",
   "execution_count": 32,
   "id": "e529a682",
   "metadata": {},
   "outputs": [],
   "source": [
    "for folders in [\"train\", \"val\"]:\n",
    "    os.makedirs(os.path.join(dataset_root, folders, \"images\"), exist_ok=True)\n",
    "    os.makedirs(os.path.join(dataset_root, folders, \"labels\"), exist_ok=True)"
   ]
  },
  {
   "cell_type": "markdown",
   "id": "0296289e",
   "metadata": {},
   "source": [
    "## COCO"
   ]
  },
  {
   "cell_type": "code",
   "execution_count": 33,
   "id": "6b8462ca",
   "metadata": {},
   "outputs": [],
   "source": [
    "with open(annotations_file, 'r') as f:\n",
    "    coco = json.load(f)\n",
    "\n",
    "images = coco[\"images\"]\n",
    "annotations = coco[\"annotations\"]\n",
    "categories = coco[\"categories\"]\n",
    "category_id_map = {cat[\"id\"]: idx for idx, cat in enumerate(categories)}\n",
    "\n"
   ]
  },
  {
   "cell_type": "markdown",
   "id": "7eabd349",
   "metadata": {},
   "source": [
    "## РАЗБИВАЕМ НА ОБУЧЕНИЕ И ВАЛИДАЦИЮ"
   ]
  },
  {
   "cell_type": "code",
   "execution_count": 34,
   "id": "c0e397c4",
   "metadata": {},
   "outputs": [],
   "source": [
    "random.shuffle(images)\n",
    "n_train = int(len(images) * train_ratio)\n",
    "train_images = images[:n_train]\n",
    "val_images = images[n_train:]\n",
    "\n",
    "train_img_ids = {img[\"id\"] for img in train_images}\n",
    "val_img_ids = {img[\"id\"] for img in val_images}\n"
   ]
  },
  {
   "cell_type": "markdown",
   "id": "fab74044",
   "metadata": {},
   "source": [
    "# ГРУППИРУЕМ АННОТАЦИИ"
   ]
  },
  {
   "cell_type": "code",
   "execution_count": 35,
   "id": "1dbd271f",
   "metadata": {},
   "outputs": [],
   "source": [
    "def group_annotations(annotations, image_ids):\n",
    "    grouped = {}\n",
    "    for ann in annotations:\n",
    "        if ann[\"image_id\"] in image_ids:\n",
    "            if len(ann[\"bbox\"]) == 4 and ann[\"bbox\"][2] > 0 and ann[\"bbox\"][3] > 0:\n",
    "                grouped.setdefault(ann[\"image_id\"], []).append(ann)\n",
    "            else:\n",
    "                print(f\"Invalid bbox in annotation: {ann}\")\n",
    "    return grouped\n",
    "\n",
    "train_anns = group_annotations(annotations, train_img_ids)\n",
    "val_anns = group_annotations(annotations, val_img_ids)\n"
   ]
  },
  {
   "cell_type": "markdown",
   "id": "a5ded9cf",
   "metadata": {},
   "source": [
    "## КОНВЕРТАЦИЯ COCO -> YOLO"
   ]
  },
  {
   "cell_type": "code",
   "execution_count": 36,
   "id": "f16a232e",
   "metadata": {},
   "outputs": [],
   "source": [
    "# конвертация bbox\n",
    "def convert_bbox(size, bbox):\n",
    "    dw = 1. / size[0]\n",
    "    dh = 1. / size[1]\n",
    "    x, y, w, h = bbox\n",
    "    x_center = x + w / 2.0\n",
    "    y_center = y + h / 2.0\n",
    "    return [x_center * dw, y_center * dh, w * dw, h * dh]\n",
    "\n",
    "# создание labels\n",
    "def save_yolo_labels(images, ann_map, split):\n",
    "    empty_files = 0\n",
    "    for img in tqdm(images, desc=f\"Processing {split}\"):\n",
    "        file_name = img[\"file_name\"]\n",
    "        img_id = img[\"id\"]\n",
    "        width = img[\"width\"]\n",
    "        height = img[\"height\"]\n",
    "        yolo_lines = []\n",
    "\n",
    "        for ann in ann_map.get(img_id, []):\n",
    "            orig_cat_id = ann[\"category_id\"]\n",
    "            if orig_cat_id not in category_id_map:\n",
    "                continue\n",
    "            yolo_cat_id = category_id_map[orig_cat_id]\n",
    "            try:\n",
    "                bbox = convert_bbox((width, height), ann[\"bbox\"])\n",
    "                bbox_str = \" \".join([f\"{x:.6f}\" for x in bbox])\n",
    "                yolo_lines.append(f\"{yolo_cat_id} {bbox_str}\")\n",
    "            except Exception as e:\n",
    "                continue\n",
    "\n",
    "        label_path = os.path.join(dataset_root, split, \"labels\", os.path.splitext(file_name)[0] + \".txt\")\n",
    "        with open(label_path, \"w\") as f:\n",
    "            f.write(\"\\n\".join(yolo_lines))\n",
    "        \n",
    "        if not yolo_lines:\n",
    "            empty_files += 1\n",
    "\n",
    "        # Копируем изображение\n",
    "        src_path = os.path.join(images_dir, file_name)\n",
    "        dst_path = os.path.join(dataset_root, split, \"images\", file_name)\n",
    "        if os.path.exists(src_path):\n",
    "            shutil.copy2(src_path, dst_path)\n",
    "    "
   ]
  },
  {
   "cell_type": "code",
   "execution_count": 37,
   "id": "0929d224",
   "metadata": {},
   "outputs": [
    {
     "name": "stderr",
     "output_type": "stream",
     "text": [
      "Processing train: 100%|██████████| 856/856 [00:02<00:00, 317.68it/s]\n",
      "Processing val: 100%|██████████| 214/214 [00:00<00:00, 317.78it/s]\n"
     ]
    }
   ],
   "source": [
    "save_yolo_labels(train_images, train_anns, \"train\")\n",
    "save_yolo_labels(val_images, val_anns, \"val\")"
   ]
  },
  {
   "cell_type": "markdown",
   "id": "b1b584c6",
   "metadata": {},
   "source": [
    "## Обучение"
   ]
  },
  {
   "cell_type": "code",
   "execution_count": 38,
   "id": "f021f72f",
   "metadata": {},
   "outputs": [
    {
     "name": "stdout",
     "output_type": "stream",
     "text": [
      "Ultralytics 8.3.127 🚀 Python-3.13.2 torch-2.7.0 CPU (Apple M1)\n",
      "\u001b[34m\u001b[1mengine/trainer: \u001b[0magnostic_nms=False, amp=True, augment=False, auto_augment=randaugment, batch=8, bgr=0.0, box=7.5, cache=False, cfg=None, classes=None, close_mosaic=10, cls=0.5, conf=None, copy_paste=0.0, copy_paste_mode=flip, cos_lr=False, cutmix=0.0, data=dataset.yaml, degrees=0.0, deterministic=True, device=cpu, dfl=1.5, dnn=False, dropout=0.0, dynamic=False, embed=None, epochs=10, erasing=0.4, exist_ok=False, fliplr=0.5, flipud=0.0, format=torchscript, fraction=1.0, freeze=None, half=False, hsv_h=0.015, hsv_s=0.7, hsv_v=0.4, imgsz=640, int8=False, iou=0.7, keras=False, kobj=1.0, line_width=None, lr0=0.01, lrf=0.01, mask_ratio=4, max_det=300, mixup=0.0, mode=train, model=yolov8n.pt, momentum=0.937, mosaic=1.0, multi_scale=False, name=train, nbs=64, nms=False, opset=None, optimize=False, optimizer=auto, overlap_mask=True, patience=100, perspective=0.0, plots=True, pose=12.0, pretrained=True, profile=False, project=None, rect=False, resume=False, retina_masks=False, save=True, save_conf=False, save_crop=False, save_dir=runs/detect/train, save_frames=False, save_json=False, save_period=-1, save_txt=False, scale=0.5, seed=0, shear=0.0, show=False, show_boxes=True, show_conf=True, show_labels=True, simplify=True, single_cls=False, source=None, split=val, stream_buffer=False, task=detect, time=None, tracker=botsort.yaml, translate=0.1, val=True, verbose=True, vid_stride=1, visualize=False, warmup_bias_lr=0.1, warmup_epochs=3.0, warmup_momentum=0.8, weight_decay=0.0005, workers=8, workspace=None\n",
      "Overriding model.yaml nc=80 with nc=6\n",
      "\n",
      "                   from  n    params  module                                       arguments                     \n",
      "  0                  -1  1       464  ultralytics.nn.modules.conv.Conv             [3, 16, 3, 2]                 \n",
      "  1                  -1  1      4672  ultralytics.nn.modules.conv.Conv             [16, 32, 3, 2]                \n",
      "  2                  -1  1      7360  ultralytics.nn.modules.block.C2f             [32, 32, 1, True]             \n",
      "  3                  -1  1     18560  ultralytics.nn.modules.conv.Conv             [32, 64, 3, 2]                \n",
      "  4                  -1  2     49664  ultralytics.nn.modules.block.C2f             [64, 64, 2, True]             \n",
      "  5                  -1  1     73984  ultralytics.nn.modules.conv.Conv             [64, 128, 3, 2]               \n",
      "  6                  -1  2    197632  ultralytics.nn.modules.block.C2f             [128, 128, 2, True]           \n",
      "  7                  -1  1    295424  ultralytics.nn.modules.conv.Conv             [128, 256, 3, 2]              \n",
      "  8                  -1  1    460288  ultralytics.nn.modules.block.C2f             [256, 256, 1, True]           \n",
      "  9                  -1  1    164608  ultralytics.nn.modules.block.SPPF            [256, 256, 5]                 \n",
      " 10                  -1  1         0  torch.nn.modules.upsampling.Upsample         [None, 2, 'nearest']          \n",
      " 11             [-1, 6]  1         0  ultralytics.nn.modules.conv.Concat           [1]                           \n",
      " 12                  -1  1    148224  ultralytics.nn.modules.block.C2f             [384, 128, 1]                 \n",
      " 13                  -1  1         0  torch.nn.modules.upsampling.Upsample         [None, 2, 'nearest']          \n",
      " 14             [-1, 4]  1         0  ultralytics.nn.modules.conv.Concat           [1]                           \n",
      " 15                  -1  1     37248  ultralytics.nn.modules.block.C2f             [192, 64, 1]                  \n",
      " 16                  -1  1     36992  ultralytics.nn.modules.conv.Conv             [64, 64, 3, 2]                \n",
      " 17            [-1, 12]  1         0  ultralytics.nn.modules.conv.Concat           [1]                           \n",
      " 18                  -1  1    123648  ultralytics.nn.modules.block.C2f             [192, 128, 1]                 \n",
      " 19                  -1  1    147712  ultralytics.nn.modules.conv.Conv             [128, 128, 3, 2]              \n",
      " 20             [-1, 9]  1         0  ultralytics.nn.modules.conv.Concat           [1]                           \n",
      " 21                  -1  1    493056  ultralytics.nn.modules.block.C2f             [384, 256, 1]                 \n",
      " 22        [15, 18, 21]  1    752482  ultralytics.nn.modules.head.Detect           [6, [64, 128, 256]]           \n",
      "Model summary: 129 layers, 3,012,018 parameters, 3,012,002 gradients, 8.2 GFLOPs\n",
      "\n",
      "Transferred 319/355 items from pretrained weights\n",
      "Freezing layer 'model.22.dfl.conv.weight'\n",
      "\u001b[34m\u001b[1mtrain: \u001b[0mFast image access ✅ (ping: 0.0±0.0 ms, read: 1465.5±422.2 MB/s, size: 942.5 KB)\n",
      "\u001b[34m\u001b[1mtrain: \u001b[0mScanning /Users/vaniadelay/Desktop/yolo_wind/dataset_yolo/train/labels...\u001b[0m/Users/vaniadelay/Desktop/yolo_wind/venv/lib/python3.13/site-packages/PIL/Image.py:3442: DecompressionBombWarning: Image size (149817600 pixels) exceeds limit of 89478485 pixels, could be decompression bomb DOS attack.\n",
      "  warnings.warn(\n",
      "\u001b[34m\u001b[1mtrain: \u001b[0mScanning /Users/vaniadelay/Desktop/yolo_wind/dataset_yolo/train/labels...\u001b[0m\n",
      "\u001b[34m\u001b[1mtrain: \u001b[0mNew cache created: /Users/vaniadelay/Desktop/yolo_wind/dataset_yolo/train/labels.cache\n",
      "\u001b[34m\u001b[1mval: \u001b[0mFast image access ✅ (ping: 0.0±0.0 ms, read: 1382.2±801.5 MB/s, size: 1367.6 KB)\n",
      "\u001b[34m\u001b[1mval: \u001b[0mScanning /Users/vaniadelay/Desktop/yolo_wind/dataset_yolo/val/labels... 214\u001b[0m\n",
      "\u001b[34m\u001b[1mval: \u001b[0mNew cache created: /Users/vaniadelay/Desktop/yolo_wind/dataset_yolo/val/labels.cache\n",
      "Plotting labels to runs/detect/train/labels.jpg... \n",
      "\u001b[34m\u001b[1moptimizer:\u001b[0m 'optimizer=auto' found, ignoring 'lr0=0.01' and 'momentum=0.937' and determining best 'optimizer', 'lr0' and 'momentum' automatically... \n",
      "\u001b[34m\u001b[1moptimizer:\u001b[0m AdamW(lr=0.001, momentum=0.9) with parameter groups 57 weight(decay=0.0), 64 weight(decay=0.0005), 63 bias(decay=0.0)\n",
      "Image sizes 640 train, 640 val\n",
      "Using 0 dataloader workers\n",
      "Logging results to \u001b[1mruns/detect/train\u001b[0m\n",
      "Starting training for 10 epochs...\n",
      "Closing dataloader mosaic\n",
      "\n",
      "      Epoch    GPU_mem   box_loss   cls_loss   dfl_loss  Instances       Size\n",
      "       1/10         0G      3.406      17.08      1.235         20        640: 1\n",
      "                 Class     Images  Instances      Box(P          R      mAP50  m\n",
      "                   all        214       1882    0.00113     0.0306     0.0056    0.00214\n",
      "\n",
      "      Epoch    GPU_mem   box_loss   cls_loss   dfl_loss  Instances       Size\n",
      "       2/10         0G      3.478      11.91      1.208        145        640: 1\n",
      "                 Class     Images  Instances      Box(P          R      mAP50  m\n",
      "                   all        214       1882      0.714     0.0285     0.0262     0.0123\n",
      "\n",
      "      Epoch    GPU_mem   box_loss   cls_loss   dfl_loss  Instances       Size\n",
      "       3/10         0G      3.561      11.78      1.179         44        640: 1\n",
      "                 Class     Images  Instances      Box(P          R      mAP50  m\n",
      "                   all        214       1882      0.554     0.0551     0.0455      0.022\n",
      "\n",
      "      Epoch    GPU_mem   box_loss   cls_loss   dfl_loss  Instances       Size\n",
      "       4/10         0G      3.433      9.182      1.142         43        640: 1\n",
      "                 Class     Images  Instances      Box(P          R      mAP50  m\n",
      "                   all        214       1882       0.67     0.0433       0.05     0.0221\n",
      "\n",
      "      Epoch    GPU_mem   box_loss   cls_loss   dfl_loss  Instances       Size\n",
      "       5/10         0G      3.405      7.818      1.159         40        640: 1\n",
      "                 Class     Images  Instances      Box(P          R      mAP50  m\n",
      "                   all        214       1882      0.457     0.0741     0.0704     0.0275\n",
      "\n",
      "      Epoch    GPU_mem   box_loss   cls_loss   dfl_loss  Instances       Size\n",
      "       6/10         0G      3.333      6.629      1.123         50        640: 1\n",
      "                 Class     Images  Instances      Box(P          R      mAP50  m\n",
      "                   all        214       1882      0.602      0.073     0.0642     0.0265\n",
      "\n",
      "      Epoch    GPU_mem   box_loss   cls_loss   dfl_loss  Instances       Size\n",
      "       7/10         0G      3.267      5.797      1.086         34        640: 1\n",
      "                 Class     Images  Instances      Box(P          R      mAP50  m\n",
      "                   all        214       1882      0.607     0.0744     0.0636     0.0354\n",
      "\n",
      "      Epoch    GPU_mem   box_loss   cls_loss   dfl_loss  Instances       Size\n",
      "       8/10         0G      3.128      5.178      1.086         16        640: 1\n",
      "                 Class     Images  Instances      Box(P          R      mAP50  m\n",
      "                   all        214       1882      0.654      0.089     0.0843       0.04\n",
      "\n",
      "      Epoch    GPU_mem   box_loss   cls_loss   dfl_loss  Instances       Size\n",
      "       9/10         0G      3.018      4.516      1.064         19        640: 1\n",
      "                 Class     Images  Instances      Box(P          R      mAP50  m\n",
      "                   all        214       1882      0.649      0.084     0.0818     0.0413\n",
      "\n",
      "      Epoch    GPU_mem   box_loss   cls_loss   dfl_loss  Instances       Size\n",
      "      10/10         0G      3.028      4.647      1.052         35        640: 1\n",
      "                 Class     Images  Instances      Box(P          R      mAP50  m\n",
      "                   all        214       1882      0.428     0.0897     0.0834     0.0431\n",
      "\n",
      "10 epochs completed in 0.639 hours.\n",
      "Optimizer stripped from runs/detect/train/weights/last.pt, 6.2MB\n",
      "Optimizer stripped from runs/detect/train/weights/best.pt, 6.2MB\n",
      "\n",
      "Validating runs/detect/train/weights/best.pt...\n",
      "Ultralytics 8.3.127 🚀 Python-3.13.2 torch-2.7.0 CPU (Apple M1)\n",
      "Model summary (fused): 72 layers, 3,006,818 parameters, 0 gradients, 8.1 GFLOPs\n",
      "                 Class     Images  Instances      Box(P          R      mAP50  m\n",
      "                   all        214       1882      0.427     0.0893     0.0833     0.0431\n",
      "                     1        102       1465      0.251     0.0922     0.0645     0.0214\n",
      "                     2         10         10          1          0          0          0\n",
      "                     3         21         26          0          0          0          0\n",
      "                     4         74        336      0.281       0.11      0.088     0.0271\n",
      "                     5         14         45      0.604      0.244      0.264      0.167\n",
      "Speed: 0.6ms preprocess, 111.8ms inference, 0.0ms loss, 0.3ms postprocess per image\n",
      "Results saved to \u001b[1mruns/detect/train\u001b[0m\n",
      "💡 Learn more at https://docs.ultralytics.com/modes/train\n"
     ]
    }
   ],
   "source": [
    "!yolo task=detect mode=train model=yolov8n.pt data=dataset.yaml epochs=10 imgsz=640 batch=8"
   ]
  },
  {
   "cell_type": "code",
   "execution_count": null,
   "id": "4c94561b",
   "metadata": {},
   "outputs": [],
   "source": [
    "# !grep \"^5 \" dataset_yolo/train/labels/*.txt"
   ]
  }
 ],
 "metadata": {
  "kernelspec": {
   "display_name": "Python (YOLO)",
   "language": "python",
   "name": "venv"
  },
  "language_info": {
   "codemirror_mode": {
    "name": "ipython",
    "version": 3
   },
   "file_extension": ".py",
   "mimetype": "text/x-python",
   "name": "python",
   "nbconvert_exporter": "python",
   "pygments_lexer": "ipython3",
   "version": "3.13.2"
  }
 },
 "nbformat": 4,
 "nbformat_minor": 5
}
